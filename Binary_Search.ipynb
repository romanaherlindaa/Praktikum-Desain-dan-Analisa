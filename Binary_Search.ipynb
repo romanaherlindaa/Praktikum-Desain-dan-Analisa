{
  "nbformat": 4,
  "nbformat_minor": 0,
  "metadata": {
    "colab": {
      "name": " Binary Search",
      "provenance": []
    },
    "kernelspec": {
      "name": "python3",
      "display_name": "Python 3"
    }
  },
  "cells": [
    {
      "cell_type": "code",
      "metadata": {
        "id": "by7FWTYSZJnA",
        "colab_type": "code",
        "colab": {
          "base_uri": "https://localhost:8080/",
          "height": 51
        },
        "outputId": "0f2aad43-8708-4ed8-e9a9-58ce11fd42cc"
      },
      "source": [
        "###\n",
        "yourList = [2,4,9,8,1,3,5,6,3] # Example List\n",
        "yourNumber = int(input('Insert Number to search ? ')) # angka yang ingin dicari\n",
        "\n",
        "#Fungsi\n",
        "def searchNumber(Number,List):\n",
        "    found = False     #Untuk memberikan kondisi adanya angka\n",
        "    List.sort() # binary search harus diurutkan\n",
        "    firstIndex = 0  #index pertama\n",
        "    lastIndex = len(List)-1 #index terakhir\n",
        "    while firstIndex <= lastIndex and not found:\n",
        "        middleIndex = (firstIndex + lastIndex) // 2     #mancari index tengah\n",
        "        if List[middleIndex] == Number:\n",
        "            found = True\n",
        "        else:\n",
        "            if Number < List[middleIndex]:\n",
        "                lastIndex = middleIndex - 1\n",
        "            else:\n",
        "                firstIndex = middleIndex + 1\n",
        "    return found\n",
        "    \n",
        "#Pemanggilam Fungsi ditandai dengan pemanggilan nama fungsi\n",
        "result = searchNumber(yourNumber,yourList)\n",
        "if result:\n",
        "    print('Number %s is Found in List'% yourNumber)\n",
        "else:\n",
        "    print('Number %s not Found in List' % yourNumber)"
      ],
      "execution_count": 2,
      "outputs": [
        {
          "output_type": "stream",
          "text": [
            "Insert Number to search ? 8\n",
            "Number 8 is Found in List\n"
          ],
          "name": "stdout"
        }
      ]
    }
  ]
}