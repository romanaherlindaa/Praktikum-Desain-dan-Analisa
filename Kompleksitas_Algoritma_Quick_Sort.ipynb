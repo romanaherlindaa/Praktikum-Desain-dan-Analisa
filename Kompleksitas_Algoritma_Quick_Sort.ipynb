{
  "nbformat": 4,
  "nbformat_minor": 0,
  "metadata": {
    "colab": {
      "name": "Kompleksitas Algoritma Quick Sort",
      "provenance": []
    },
    "kernelspec": {
      "name": "python3",
      "display_name": "Python 3"
    }
  },
  "cells": [
    {
      "cell_type": "code",
      "metadata": {
        "id": "AgRibKBhWCTw",
        "colab_type": "code",
        "colab": {
          "base_uri": "https://localhost:8080/",
          "height": 51
        },
        "outputId": "6113940a-1c3f-40c7-aead-4599b484b6b7"
      },
      "source": [
        "def partition(l, bwh, atas):\n",
        "  pivot = l[bwh]\n",
        "  pos_batas = bwh+1\n",
        "  for j in range(bwh+1,atas):\n",
        "    if l[j] < pivot:\n",
        "      l[pos_batas],l[j]=l[j],l[pos_batas]\n",
        "      pos_batas += 1\n",
        "  l[pos_batas-1],l[bwh] = l[bwh],l[pos_batas-1]\n",
        "  return pos_batas\n",
        "\n",
        "def quicksort(l, bwh, atas):\n",
        "  if atas <= bwh:\n",
        "    return\n",
        "  q = partition(l, bwh, atas)\n",
        "  quicksort(l, bwh, q-1)\n",
        "  quicksort(l, q, atas)\n",
        "  return l\n",
        "\n",
        "angka = [34,21,45,32,12,31,19,23,54,31,25,27]\n",
        "print('Sebelum sort:',angka)\n",
        "quicksort(angka,0,len(angka))\n",
        "print('Setelah sort:',angka)\n",
        "\n"
      ],
      "execution_count": 22,
      "outputs": [
        {
          "output_type": "stream",
          "text": [
            "Sebelum sort: [34, 21, 45, 32, 12, 31, 19, 23, 54, 31, 25, 27]\n",
            "Setelah sort: [12, 19, 21, 23, 25, 27, 31, 31, 32, 34, 45, 54]\n"
          ],
          "name": "stdout"
        }
      ]
    }
  ]
}