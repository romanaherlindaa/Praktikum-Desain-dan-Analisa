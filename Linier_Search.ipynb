{
  "nbformat": 4,
  "nbformat_minor": 0,
  "metadata": {
    "colab": {
      "name": "Linier Search",
      "provenance": []
    },
    "kernelspec": {
      "name": "python3",
      "display_name": "Python 3"
    }
  },
  "cells": [
    {
      "cell_type": "code",
      "metadata": {
        "id": "vfYFQtRXZ1Yw",
        "colab_type": "code",
        "colab": {
          "base_uri": "https://localhost:8080/",
          "height": 51
        },
        "outputId": "a606a04c-ab9d-4de0-b53d-22c8ef6349cc"
      },
      "source": [
        "myList = [1,5,10,15,20,25,30,2,6,8,9] # Example List\n",
        "cari = int(input(\"Masukkan Angka Yang Anda Cari : \")) # angka yang ingin dicari\n",
        "\n",
        "#fungsi\n",
        "def searchNumber(List,search):\n",
        "    counter = 0\n",
        "    while counter != len(myList):\n",
        "        if myList[counter] == search:\n",
        "            result = counter\n",
        "        counter += 1\n",
        "    return result\n",
        "\n",
        "#pemangilan Fungsi\n",
        "hasil = searchNumber(myList,cari)\n",
        "if cari not in myList:\n",
        "    print(\"Number Not Found !!!\")\n",
        "else:\n",
        "    print('Number %s in index %s'% (cari,hasil))"
      ],
      "execution_count": 1,
      "outputs": [
        {
          "output_type": "stream",
          "text": [
            "Masukkan Angka Yang Anda Cari : 2\n",
            "Number 2 in index 7\n"
          ],
          "name": "stdout"
        }
      ]
    }
  ]
}